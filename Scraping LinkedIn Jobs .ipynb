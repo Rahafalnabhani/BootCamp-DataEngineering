{
 "cells": [
  {
   "cell_type": "code",
   "execution_count": 1,
   "id": "c4d93a1f",
   "metadata": {},
   "outputs": [
    {
     "name": "stdout",
     "output_type": "stream",
     "text": [
      "Requirement already satisfied: requests in c:\\users\\rahaf hamed alnabhan\\anaconda3\\lib\\site-packages (2.29.0)\n",
      "Requirement already satisfied: charset-normalizer<4,>=2 in c:\\users\\rahaf hamed alnabhan\\anaconda3\\lib\\site-packages (from requests) (2.0.4)\n",
      "Requirement already satisfied: idna<4,>=2.5 in c:\\users\\rahaf hamed alnabhan\\anaconda3\\lib\\site-packages (from requests) (3.4)\n",
      "Requirement already satisfied: urllib3<1.27,>=1.21.1 in c:\\users\\rahaf hamed alnabhan\\anaconda3\\lib\\site-packages (from requests) (1.26.16)\n",
      "Requirement already satisfied: certifi>=2017.4.17 in c:\\users\\rahaf hamed alnabhan\\anaconda3\\lib\\site-packages (from requests) (2023.5.7)\n",
      "Requirement already satisfied: beautifulsoup4 in c:\\users\\rahaf hamed alnabhan\\anaconda3\\lib\\site-packages (4.12.2)\n",
      "Requirement already satisfied: soupsieve>1.2 in c:\\users\\rahaf hamed alnabhan\\anaconda3\\lib\\site-packages (from beautifulsoup4) (2.4)\n"
     ]
    }
   ],
   "source": [
    "!pip install requests\n",
    "!pip install beautifulsoup4"
   ]
  },
  {
   "cell_type": "code",
   "execution_count": 2,
   "id": "cb263da4",
   "metadata": {},
   "outputs": [],
   "source": [
    "import time \n",
    "import csv\n",
    "import requests\n",
    "from bs4 import BeautifulSoup"
   ]
  },
  {
   "cell_type": "code",
   "execution_count": 3,
   "id": "e68cfac8",
   "metadata": {},
   "outputs": [],
   "source": [
    "webpage = 'https://www.linkedin.com/jobs/search?keywords=IT&location=Oman&geoId=103619019&trk=public_jobs_jobs-search-bar_search-submit&position=1&pageNum=0'"
   ]
  },
  {
   "cell_type": "code",
   "execution_count": 4,
   "id": "dbd486ac",
   "metadata": {},
   "outputs": [
    {
     "data": {
      "text/plain": [
       "'https://www.linkedin.com/jobs/search?keywords=IT&location=Oman&geoId=103619019&trk=public_jobs_jobs-search-bar_search-submit&position=1&pageNum=0'"
      ]
     },
     "execution_count": 4,
     "metadata": {},
     "output_type": "execute_result"
    }
   ],
   "source": [
    "webpage"
   ]
  },
  {
   "cell_type": "code",
   "execution_count": null,
   "id": "7a584956",
   "metadata": {},
   "outputs": [],
   "source": [
    "file = open('linkedin-jobs.csv', 'a')\n",
    "writer = csv.writer(file)\n",
    "writer.writerow(['Title', 'Company', 'Location', 'Apply'])\n",
    "\n",
    "def linkedin_scraper(webpage, start=0):\n",
    "    if start> 0:\n",
    "        next_page = webpage + '&start={}'.format(start)\n",
    "    else:\n",
    "        next_page = webpage\n",
    "    print(str(next_page))\n",
    "    response = requests.get(str(next_page))\n",
    "    soup = BeautifulSoup(response.content,'html.parser')\n",
    "\n",
    "jobs = soup.find_all('div', class_='base-card relative w-full hover:no-underline focus:no-underline base-card--link base-search-card base-search-card--link job-search-card')\n",
    "    for job in jobs:\n",
    "    job_title = job.find('h3', class_='base-search-card__title').text.strip()\n",
    "    job_company = job.find('h4', class_='base-search-card__subtitle').text.strip()\n",
    "    job_location = job.find('span', class_='job-search-card__location').text.strip()\n",
    "    job_link = job.find('a', class_='base-card__full-link')['href']\n",
    "\n",
    "\n",
    "writer.writerow([\n",
    "    job_title.encode('utf-8'),\n",
    "    job_company.encode('utf-8'),\n",
    "    job_location.encode('utf-8'),\n",
    "    job_link.encode('utf-8'),\n",
    "    ])\n",
    "\n",
    "print(job_title)\n",
    "print('Data updated')"
   ]
  },
  {
   "cell_type": "code",
   "execution_count": null,
   "id": "868c993c",
   "metadata": {},
   "outputs": [],
   "source": []
  }
 ],
 "metadata": {
  "kernelspec": {
   "display_name": "Python 3 (ipykernel)",
   "language": "python",
   "name": "python3"
  },
  "language_info": {
   "codemirror_mode": {
    "name": "ipython",
    "version": 3
   },
   "file_extension": ".py",
   "mimetype": "text/x-python",
   "name": "python",
   "nbconvert_exporter": "python",
   "pygments_lexer": "ipython3",
   "version": "3.11.3"
  }
 },
 "nbformat": 4,
 "nbformat_minor": 5
}
