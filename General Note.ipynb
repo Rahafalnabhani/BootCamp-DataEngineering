{
 "cells": [
  {
   "cell_type": "markdown",
   "id": "06d39611",
   "metadata": {},
   "source": [
    "# Fundamentals of python :"
   ]
  },
  {
   "cell_type": "code",
   "execution_count": 1,
   "id": "62423016",
   "metadata": {},
   "outputs": [
    {
     "name": "stdout",
     "output_type": "stream",
     "text": [
      "<class 'int'>\n",
      "<class 'float'>\n",
      "<class 'str'>\n",
      "<class 'bool'>\n"
     ]
    }
   ],
   "source": [
    "# Integer Variable :\n",
    "x = 55\n",
    "print(type(x))\n",
    "\n",
    "# Float Variable :\n",
    "y = 55.6\n",
    "print(type(y))\n",
    "\n",
    "# String Variable :\n",
    "z = \"Rahaf\"\n",
    "print(type(z))\n",
    "\n",
    "# Boolean Variable :\n",
    "a = True\n",
    "print(type(a))"
   ]
  },
  {
   "cell_type": "code",
   "execution_count": 2,
   "id": "fdaf0d8e",
   "metadata": {},
   "outputs": [
    {
     "name": "stdout",
     "output_type": "stream",
     "text": [
      "<class 'list'>\n",
      "<class 'list'>\n",
      "<class 'set'>\n",
      "<class 'dict'>\n"
     ]
    }
   ],
   "source": [
    "# List :\n",
    "List = [1,2,3,4]\n",
    "print(type(List))\n",
    "\n",
    "# Tuple :\n",
    "Tuple = [1,2,3,4]\n",
    "print(type(Tuple))\n",
    "\n",
    "# Set :\n",
    "Set = {5,6,7,8}\n",
    "print(type(Set))\n",
    "\n",
    "# Dictionary :\n",
    "Dictionary = {'Rahaf':55, 'Hamed':90 }\n",
    "print(type(Dictionary))"
   ]
  },
  {
   "cell_type": "code",
   "execution_count": 3,
   "id": "219d3fcb",
   "metadata": {},
   "outputs": [
    {
     "name": "stdout",
     "output_type": "stream",
     "text": [
      " x is grater than y\n"
     ]
    }
   ],
   "source": [
    "# If Statments :\n",
    "x = 20\n",
    "y = 50\n",
    "if x > y:\n",
    "    print(\" x is greater than y ! \")\n",
    "elif x == y :\n",
    "    print (\" x is equal to y ! \")\n",
    "else :\n",
    "    print (\" x is grater than y\")"
   ]
  },
  {
   "cell_type": "code",
   "execution_count": 4,
   "id": "e40a9b7e",
   "metadata": {},
   "outputs": [
    {
     "name": "stdout",
     "output_type": "stream",
     "text": [
      "1\n",
      "2\n",
      "3\n",
      "4\n",
      "5\n"
     ]
    }
   ],
   "source": [
    "# While loop :\n",
    "i = 1\n",
    "while i < 6 :\n",
    "    print(i)\n",
    "    i +=1"
   ]
  },
  {
   "cell_type": "code",
   "execution_count": 5,
   "id": "dea14b63",
   "metadata": {},
   "outputs": [],
   "source": [
    "# While loop :\n",
    "i = 7\n",
    "while i < 6 :\n",
    "    print(i)\n",
    "    i +=1"
   ]
  },
  {
   "cell_type": "code",
   "execution_count": 6,
   "id": "2887f40a",
   "metadata": {},
   "outputs": [
    {
     "name": "stdout",
     "output_type": "stream",
     "text": [
      "apple\n",
      "orange\n",
      "banana\n"
     ]
    }
   ],
   "source": [
    "# For Loop :\n",
    "Fruit = ['apple' , 'orange' , 'banana']\n",
    "for x in Fruit:\n",
    "    print(x)"
   ]
  },
  {
   "cell_type": "code",
   "execution_count": 7,
   "id": "4e55e8a8",
   "metadata": {},
   "outputs": [],
   "source": [
    "for i in range(5):\n",
    "    if i ==3:\n",
    "        break\n",
    "        print(i)        # 0,1,2,3"
   ]
  },
  {
   "cell_type": "code",
   "execution_count": 8,
   "id": "efad9e25",
   "metadata": {},
   "outputs": [],
   "source": [
    "for i in range (5):\n",
    "    if i ==3:\n",
    "        continue\n",
    "        print(i)          # 0,1,2,3,4"
   ]
  },
  {
   "cell_type": "code",
   "execution_count": 9,
   "id": "ddea671f",
   "metadata": {},
   "outputs": [
    {
     "name": "stdout",
     "output_type": "stream",
     "text": [
      "Hello Rahaf\n"
     ]
    }
   ],
   "source": [
    "# Define Function :\n",
    "def my_function():\n",
    "    print(\"Hello Rahaf\")\n",
    "    \n",
    "# Calling the fumction :    \n",
    "my_function()"
   ]
  },
  {
   "cell_type": "code",
   "execution_count": null,
   "id": "dc2e3281",
   "metadata": {},
   "outputs": [],
   "source": [
    "# Positional Agruments :\n",
    "def greet(name,greeting = \"Hello\"):\n",
    "    print(f\" {greeting} , {name} \")\n",
    "    "
   ]
  },
  {
   "cell_type": "code",
   "execution_count": 10,
   "id": "01242b7c",
   "metadata": {},
   "outputs": [],
   "source": [
    "# Return :\n",
    "def add(x,y):\n",
    "    result = add(6,3)\n",
    "    print(result)"
   ]
  },
  {
   "cell_type": "code",
   "execution_count": 12,
   "id": "15dd3e65",
   "metadata": {},
   "outputs": [],
   "source": [
    "# Another Return :\n",
    "def add(x,y):  \n",
    "    result = add(6,3)\n",
    "    print(result)"
   ]
  },
  {
   "cell_type": "code",
   "execution_count": 11,
   "id": "c2950bc7",
   "metadata": {},
   "outputs": [
    {
     "name": "stdout",
     "output_type": "stream",
     "text": [
      "9\n"
     ]
    }
   ],
   "source": [
    "# Return :\n",
    "def add(x,y):  return (x+y,x,y)\n",
    "result,_,_ = add(6,3)\n",
    "print(result)"
   ]
  },
  {
   "cell_type": "code",
   "execution_count": null,
   "id": "4ddc27ad",
   "metadata": {},
   "outputs": [],
   "source": []
  }
 ],
 "metadata": {
  "kernelspec": {
   "display_name": "Python 3 (ipykernel)",
   "language": "python",
   "name": "python3"
  },
  "language_info": {
   "codemirror_mode": {
    "name": "ipython",
    "version": 3
   },
   "file_extension": ".py",
   "mimetype": "text/x-python",
   "name": "python",
   "nbconvert_exporter": "python",
   "pygments_lexer": "ipython3",
   "version": "3.11.3"
  }
 },
 "nbformat": 4,
 "nbformat_minor": 5
}
